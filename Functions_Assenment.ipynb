{
  "nbformat": 4,
  "nbformat_minor": 0,
  "metadata": {
    "colab": {
      "provenance": []
    },
    "kernelspec": {
      "name": "python3",
      "display_name": "Python 3"
    },
    "language_info": {
      "name": "python"
    }
  },
  "cells": [
    {
      "cell_type": "markdown",
      "source": [
        "## Theory Questions\n"
      ],
      "metadata": {
        "id": "MCtuB_5nUIHK"
      }
    },
    {
      "cell_type": "markdown",
      "source": [
        "* 1. What is the difference between a function and a method in Python?\n",
        " - A block of reusable code that performs a specific task and is not tied to any object. Functions are defined using the def keyword.\n",
        " - A function that is associated with an object and can access the object’s data. Methods are called on objects.\n",
        "* 2. Explain the concept of function arguments and parameters in Python.\n",
        " - Parameters: Variables defined in the function signature to receive input values.\n",
        " - Arguments: Values passed to the function when calling it.\n",
        "* 3. What are the different ways to define and call a function in Python?\n",
        " - Define: Using the def keyword or lambda expressions.\n",
        "\n",
        " - Call: Using the function name followed by parentheses.\n",
        "\n",
        "\n",
        "* 4. What is the purpose of the `return` statement in a Python function?\n",
        " - The return statement specifies the value a function should return to its caller.\n",
        "* 5. What are iterators in Python and how do they differ from iterables?\n",
        " - Iterable: An object capable of returning its members one at a time (e.g., lists, tuples).\n",
        "\n",
        " - Iterator: An object that represents a stream of data and implements __iter__() and __next__() methods.\n",
        "* 6. Explain the concept of generators in Python and how they are defined.\n",
        " - Generators: Special functions that yield values one at a time using the yield keyword.\n",
        "\n",
        "\n",
        "* 7. What are the advantages of using generators over regular functions?\n",
        " - Memory efficiency: Generators yield items one at a time instead of storing them in memory.\n",
        "\n",
        " - Lazy evaluation: They produce values only when needed.\n",
        "\n",
        "\n",
        "* 8. What is a lambda function in Python and when is it typically used?\n",
        " - Lambda function: An anonymous function defined using the lambda keyword. It’s often used for short, throwaway functions.\n",
        "\n",
        "\n",
        "* 9. Explain the purpose and usage of the `map()` function in Python.\n",
        " - Purpose: Applies a function to all items in an iterable and returns a map object.\n",
        "\n",
        "\n",
        "* 10. What is the difference between `map()`, `reduce()`, and `filter()` functions in Python?\n",
        " - map(): Applies a function to each item in an iterable.\n",
        "\n",
        " - reduce(): Reduces an iterable to a single value by applying a function cumulatively (requires functools.reduce).\n",
        "\n",
        " - filter(): Filters items in an iterable based on a condition.\n",
        "\n",
        "\n",
        "* 11. Using pen & Paper write the internal mechanism for sum operation using  reduce function on this given\n",
        "list:[47,11,42,13];\n",
        " - Step 1: Start with the first two elements: 47 + 11 = 58\n",
        "\n",
        " - Step 2: Add the result to the next element: 58 + 42 = 100\n",
        "\n",
        " - Step 3: Add the result to the last element: 100 + 13 = 113\n",
        "\n",
        "\n"
      ],
      "metadata": {
        "id": "5lZEQKopUnRX"
      }
    },
    {
      "cell_type": "markdown",
      "source": [
        "## Practical Questions\n"
      ],
      "metadata": {
        "id": "6wlX6Bu7T-Dp"
      }
    },
    {
      "cell_type": "code",
      "execution_count": 6,
      "metadata": {
        "colab": {
          "base_uri": "https://localhost:8080/"
        },
        "id": "JBB3HyWLPJ8T",
        "outputId": "499ce0da-aac9-46e2-d323-8b8d753318a5"
      },
      "outputs": [
        {
          "output_type": "stream",
          "name": "stdout",
          "text": [
            "Enter a list of numbers separated by spaces: 1 2 3 4 5 6\n",
            "Sum of even numbers: 12\n"
          ]
        }
      ],
      "source": [
        "#1. Write a Python function that takes a list of numbers as input and returns the sum of all even numbers in the list.\n",
        "def sum_of_evens():\n",
        "    numbers = list(map(int, input(\"Enter a list of numbers separated by spaces: \").split()))\n",
        "    print(\"Sum of even numbers:\", sum(num for num in numbers if num % 2 == 0))\n",
        "sum_of_evens()\n",
        "\n"
      ]
    },
    {
      "cell_type": "code",
      "source": [
        "#2. Create a Python function that accepts a string and returns the reverse of that string.\n",
        "def reverse_string():\n",
        "    s = input(\"Enter a string: \")\n",
        "    print(\"Reversed string:\", s[::-1])\n",
        "\n",
        "reverse_string()\n"
      ],
      "metadata": {
        "colab": {
          "base_uri": "https://localhost:8080/"
        },
        "id": "YrOeb0i7PY3t",
        "outputId": "1f74a159-738f-41f9-ef75-558e8394ebef"
      },
      "execution_count": 8,
      "outputs": [
        {
          "output_type": "stream",
          "name": "stdout",
          "text": [
            "Enter a string: 1 2 3 4 6 5 7\n",
            "Reversed string: 7 5 6 4 3 2 1\n"
          ]
        }
      ]
    },
    {
      "cell_type": "code",
      "source": [
        "#3. Implement a Python function that takes a list of integers and returns a new list containing the squares of each number.\n",
        "def square_numbers():\n",
        "    numbers = list(map(int, input(\"Enter a list of numbers separated by spaces: \").split()))\n",
        "    print(\"Squares of the numbers:\", [num ** 2 for num in numbers])\n",
        "\n",
        "square_numbers()\n"
      ],
      "metadata": {
        "colab": {
          "base_uri": "https://localhost:8080/"
        },
        "id": "bKAczApsPY0I",
        "outputId": "36e11527-827e-4573-9698-96d75581883d"
      },
      "execution_count": 9,
      "outputs": [
        {
          "output_type": "stream",
          "name": "stdout",
          "text": [
            "Enter a list of numbers separated by spaces: 1 2 3 4 8 6\n",
            "Squares of the numbers: [1, 4, 9, 16, 64, 36]\n"
          ]
        }
      ]
    },
    {
      "cell_type": "code",
      "source": [
        "#4. Write a Python function that checks if a given number is prime or not from 1 to 200.\n",
        "def primes_upto_200():\n",
        "    def is_prime(n):\n",
        "        if n <= 1:\n",
        "            return False\n",
        "        for i in range(2, int(n ** 0.5) + 1):\n",
        "            if n % i == 0:\n",
        "                return False\n",
        "        return True\n",
        "\n",
        "    print(\"Prime numbers from 1 to 200:\", [n for n in range(1, 201) if is_prime(n)])\n",
        "\n",
        "primes_upto_200()"
      ],
      "metadata": {
        "colab": {
          "base_uri": "https://localhost:8080/"
        },
        "id": "12urjS5KPYr0",
        "outputId": "a4094dcb-ce1f-4a41-bb45-9c343e779f83"
      },
      "execution_count": 10,
      "outputs": [
        {
          "output_type": "stream",
          "name": "stdout",
          "text": [
            "Prime numbers from 1 to 200: [2, 3, 5, 7, 11, 13, 17, 19, 23, 29, 31, 37, 41, 43, 47, 53, 59, 61, 67, 71, 73, 79, 83, 89, 97, 101, 103, 107, 109, 113, 127, 131, 137, 139, 149, 151, 157, 163, 167, 173, 179, 181, 191, 193, 197, 199]\n"
          ]
        }
      ]
    },
    {
      "cell_type": "code",
      "source": [
        " #5. Create an iterator class in Python that generates the Fibonacci sequence up to a specified number of terms.\n",
        "def fibonacci_sequence():\n",
        "    terms = int(input(\"Enter the number of terms for the Fibonacci sequence: \"))\n",
        "    class Fibonacci:\n",
        "        def __init__(self, terms):\n",
        "            self.terms = terms\n",
        "            self.a, self.b = 0, 1\n",
        "            self.count = 0\n",
        "\n",
        "        def __iter__(self):\n",
        "            return self\n",
        "\n",
        "        def __next__(self):\n",
        "            if self.count >= self.terms:\n",
        "                raise StopIteration\n",
        "            self.count += 1\n",
        "            result = self.a\n",
        "            self.a, self.b = self.b, self.a + self.b\n",
        "            return result\n",
        "\n",
        "    fib = Fibonacci(terms)\n",
        "    print(\"Fibonacci sequence:\", [num for num in fib])\n",
        "\n",
        "fibonacci_sequence()\n"
      ],
      "metadata": {
        "colab": {
          "base_uri": "https://localhost:8080/"
        },
        "id": "EU9glQdYPYoS",
        "outputId": "fb6e028f-0826-476f-810e-191ee9f69e04"
      },
      "execution_count": 11,
      "outputs": [
        {
          "output_type": "stream",
          "name": "stdout",
          "text": [
            "Enter the number of terms for the Fibonacci sequence: 4\n",
            "Fibonacci sequence: [0, 1, 1, 2]\n"
          ]
        }
      ]
    },
    {
      "cell_type": "code",
      "source": [
        "#6. Write a generator function in Python that yields the powers of 2 up to a given exponent.\n",
        "def powers_of_two():\n",
        "    max_exponent = int(input(\"Enter the maximum exponent for powers of 2: \"))\n",
        "    def generator():\n",
        "        for i in range(max_exponent + 1):\n",
        "            yield 2 ** i\n",
        "\n",
        "    print(\"Powers of 2:\", list(generator()))\n",
        "\n",
        "powers_of_two()\n"
      ],
      "metadata": {
        "colab": {
          "base_uri": "https://localhost:8080/"
        },
        "id": "lsx3vbJIPYjN",
        "outputId": "5c01bda1-058a-4adf-b8e4-4012b55556fb"
      },
      "execution_count": 12,
      "outputs": [
        {
          "output_type": "stream",
          "name": "stdout",
          "text": [
            "Enter the maximum exponent for powers of 2: 8\n",
            "Powers of 2: [1, 2, 4, 8, 16, 32, 64, 128, 256]\n"
          ]
        }
      ]
    },
    {
      "cell_type": "code",
      "source": [
        "#7. Implement a generator function that reads a file line by line and yields each line as a string.\n",
        "def read_file_line_by_line():\n",
        "    file_path = input(\"Enter the file path: \")\n",
        "    def generator():\n",
        "        with open(file_path, 'r') as file:\n",
        "            for line in file:\n",
        "                yield line.strip()\n",
        "\n",
        "    print(\"File content:\")\n",
        "    for line in generator():\n",
        "        print(line)\n"
      ],
      "metadata": {
        "id": "gp05DjS2PYhq"
      },
      "execution_count": 13,
      "outputs": []
    },
    {
      "cell_type": "code",
      "source": [
        "#8. Use a lambda function in Python to sort a list of tuples based on the second element of each tuple.\n",
        "\n",
        "tuples_list = [\n",
        "    (1, 3),\n",
        "    (4, 1),\n",
        "    (2, 2),\n",
        "    (5, 0)\n",
        "]\n",
        "sorted_tuples = sorted(tuples_list, key=lambda x: x[1])\n",
        "print(\"Sorted list of tuples:\", sorted_tuples)\n"
      ],
      "metadata": {
        "colab": {
          "base_uri": "https://localhost:8080/"
        },
        "id": "Bkyn_OZTPYgK",
        "outputId": "978add8e-969f-4727-f60f-836a7f6ebc13"
      },
      "execution_count": 18,
      "outputs": [
        {
          "output_type": "stream",
          "name": "stdout",
          "text": [
            "Sorted list of tuples: [(5, 0), (4, 1), (2, 2), (1, 3)]\n"
          ]
        }
      ]
    },
    {
      "cell_type": "code",
      "source": [
        "#9. Write a Python program that uses `map()` to convert a list of temperatures from Celsius to Fahrenheit.\n",
        "def celsius_to_fahrenheit():\n",
        "    celsius_list = list(map(float, input(\"Enter temperatures in Celsius separated by spaces: \").split()))\n",
        "    print(\"Temperatures in Fahrenheit:\", list(map(lambda c: (c * 9/5) + 32, celsius_list)))\n",
        "\n",
        "celsius_to_fahrenheit()\n"
      ],
      "metadata": {
        "colab": {
          "base_uri": "https://localhost:8080/"
        },
        "id": "EwP6yAaiPYeo",
        "outputId": "8e68b743-b4b7-4cbe-bf35-6878cc3aa67b"
      },
      "execution_count": 16,
      "outputs": [
        {
          "output_type": "stream",
          "name": "stdout",
          "text": [
            "Enter temperatures in Celsius separated by spaces: 4 5 6 8  9\n",
            "Temperatures in Fahrenheit: [39.2, 41.0, 42.8, 46.4, 48.2]\n"
          ]
        }
      ]
    },
    {
      "cell_type": "code",
      "source": [
        "#10. Create a Python program that uses `filter()` to remove all the vowels from a given string.\n",
        "def remove_vowels():\n",
        "    s = input(\"Enter a string: \")\n",
        "    vowels = 'aeiouAEIOU'\n",
        "    print(\"String without vowels:\", ''.join(filter(lambda char: char not in vowels, s)))\n",
        "\n",
        "remove_vowels()\n",
        "\n"
      ],
      "metadata": {
        "colab": {
          "base_uri": "https://localhost:8080/"
        },
        "id": "Txe0tuhHPYdB",
        "outputId": "b06a9fc4-fd11-4398-cf5c-943844ca92f1"
      },
      "execution_count": 17,
      "outputs": [
        {
          "output_type": "stream",
          "name": "stdout",
          "text": [
            "Enter a string: abcdehg\n",
            "String without vowels: bcdhg\n"
          ]
        }
      ]
    },
    {
      "cell_type": "code",
      "source": [
        "#11. Imagine an accounting routine used in a book shop. It works on a list with sublists, which look like this\n",
        "# Write a Python program, which returns a list with 2-tuples. Each tuple consists of the order number and the\n",
        "# product of the price per item and the quantity. The product should be increased by 10,- € if the value of the order is smaller than 100,00 €.\n",
        "# Write a Python program using lambda and map\n",
        "\n",
        "orders = [\n",
        "    [34587, \"Learning Python, Mark Lutz\", 4, 40.95],\n",
        "    [98762, \"Programming Python, Mark Lutz\", 5, 56.80],\n",
        "    [77226, \"Head First Python, Paul Barry\", 3, 32.95],\n",
        "    [88112, \"Einführung in Python3, Bernd Klein\", 3, 24.99]\n",
        "]\n",
        "\n",
        "\n",
        "result = list(map(lambda order: (order[0], order[2] * order[3] + (10 if order[2] * order[3] < 100 else 0)), orders))\n",
        "\n",
        "print(result)\n"
      ],
      "metadata": {
        "colab": {
          "base_uri": "https://localhost:8080/"
        },
        "id": "7JVV1TiTPYaq",
        "outputId": "b1e1bf37-4a15-4d6b-94eb-41989b6ba90a"
      },
      "execution_count": 7,
      "outputs": [
        {
          "output_type": "stream",
          "name": "stdout",
          "text": [
            "[(34587, 163.8), (98762, 284.0), (77226, 108.85000000000001), (88112, 84.97)]\n"
          ]
        }
      ]
    },
    {
      "cell_type": "code",
      "source": [],
      "metadata": {
        "id": "V80GdQqIPYYQ"
      },
      "execution_count": null,
      "outputs": []
    },
    {
      "cell_type": "code",
      "source": [],
      "metadata": {
        "id": "g2BQY9uOPYV7"
      },
      "execution_count": null,
      "outputs": []
    }
  ]
}